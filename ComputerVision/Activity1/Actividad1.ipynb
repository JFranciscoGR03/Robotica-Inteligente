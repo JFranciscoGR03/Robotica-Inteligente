{
 "cells": [
  {
   "cell_type": "markdown",
   "metadata": {},
   "source": [
    "# ACTIVIDAD 1\n",
    "Juan Francisco García Rodríguez - A01660981"
   ]
  },
  {
   "cell_type": "code",
   "execution_count": 5,
   "metadata": {},
   "outputs": [
    {
     "name": "stderr",
     "output_type": "stream",
     "text": [
      "\"c:\\Program\" no se reconoce como un comando interno o externo,\n",
      "programa o archivo por lotes ejecutable.\n"
     ]
    }
   ],
   "source": [
    "import sys\n",
    "!{sys.executable} -m pip install cv2"
   ]
  },
  {
   "cell_type": "code",
   "execution_count": 6,
   "metadata": {},
   "outputs": [],
   "source": [
    "#video normal\n",
    "\n",
    "import cv2\n",
    "\n",
    "video1 = cv2.VideoCapture(0) #Grabar video desde la cámara principal\n",
    "width = int(video1.get(cv2.CAP_PROP_FRAME_WIDTH)) #Ancho de la camara\n",
    "height = int(video1.get(cv2.CAP_PROP_FRAME_HEIGHT)) #Alto de la camera\n",
    "\n",
    "writer_normal = cv2.VideoWriter('normal_video.mp4', cv2.VideoWriter_fourcc(*'mp4v'), 40, (width, height)) #Guardar un video en un archivo\n",
    "while True:\n",
    "    ret1, frame1 = video1.read() #Captura un fotograma de la cámara y almacena el fotograma en la variable \"frame\"\n",
    "    if cv2.waitKey(1) & 0xFF == ord('x'): #Espera hasta que se presione la tecla 'x' para salir del bucle\n",
    "        break\n",
    "    writer_normal.write(frame1) #Escribe el fotograma capturado\n",
    "    cv2.imshow('frame', frame1) #Muestra el fotograma capturado en una ventana\n",
    "video1.release()\n",
    "writer_normal.release()\n",
    "cv2.destroyAllWindows() #Cierra todas las ventanas abiertas por OpenCV"
   ]
  },
  {
   "cell_type": "code",
   "execution_count": 7,
   "metadata": {},
   "outputs": [],
   "source": [
    "#Video en reversa\n",
    "\n",
    "video2 = cv2.VideoCapture(\"normal_video.mp4\")\n",
    "\n",
    "writer_reversed = cv2.VideoWriter('reversed_video.mp4', cv2.VideoWriter_fourcc(*'mp4v'), 40, (width, height))\n",
    "\n",
    "check, vid = video2.read() #Lee el primer fotograma del video\n",
    "frame_list_normal = [] #Lista vacía para almacenar fotogramas del video original\n",
    "while(check == True): #Bucle para leer todos los fotogramas del video original y almacenarlos en la lista\n",
    "    check, vid = video2.read() #Lee el siguiente fotograma del video\n",
    "    frame_list_normal.append(vid) #Añade el fotograma leído a la lista de fotogramas\n",
    "frame_list_normal.pop()\n",
    "frame_list_normal.reverse() #Invierte el orden de los fotogramas en la lista\n",
    "\n",
    "for frame2 in frame_list_normal: #Itera a través de la lista de fotogramas invertidos\n",
    "    writer_reversed.write(frame2) #Escribe el fotograma invertido para guardar el video revertido.\n",
    "    \n",
    "video2.release()\n",
    "writer_reversed.release()\n",
    "cv2.destroyAllWindows()"
   ]
  },
  {
   "cell_type": "code",
   "execution_count": 8,
   "metadata": {},
   "outputs": [],
   "source": [
    "#Video combinado\n",
    "\n",
    "video2 = cv2.VideoCapture(\"normal_video.mp4\")\n",
    "video3 = cv2.VideoCapture(\"reversed_video.mp4\")\n",
    "\n",
    "writer_combined = cv2.VideoWriter('combined_video.mp4', cv2.VideoWriter_fourcc(*'mp4v'), 40, (width, height))\n",
    "\n",
    "check, vid = video2.read()\n",
    "frame_list_normal2 = []\n",
    "while(check == True):\n",
    "    check, vid = video2.read()\n",
    "    frame_list_normal2.append(vid)\n",
    "frame_list_normal2.pop()\n",
    "\n",
    "for frame3 in frame_list_normal2:\n",
    "    writer_combined.write(frame3)\n",
    "\n",
    "check, vid = video3.read()\n",
    "frame_list_reversed = []\n",
    "while(check == True):\n",
    "    check, vid = video3.read()\n",
    "    frame_list_reversed.append(vid)\n",
    "frame_list_reversed.pop()\n",
    "\n",
    "for frame4 in frame_list_reversed:\n",
    "    writer_combined.write(frame4)\n",
    "\n",
    "video2.release()\n",
    "video3.release()\n",
    "writer_combined.release()\n",
    "\n",
    "cv2.destroyAllWindows()\n"
   ]
  }
 ],
 "metadata": {
  "kernelspec": {
   "display_name": "Python 3",
   "language": "python",
   "name": "python3"
  },
  "language_info": {
   "codemirror_mode": {
    "name": "ipython",
    "version": 3
   },
   "file_extension": ".py",
   "mimetype": "text/x-python",
   "name": "python",
   "nbconvert_exporter": "python",
   "pygments_lexer": "ipython3",
   "version": "3.11.4"
  }
 },
 "nbformat": 4,
 "nbformat_minor": 2
}
