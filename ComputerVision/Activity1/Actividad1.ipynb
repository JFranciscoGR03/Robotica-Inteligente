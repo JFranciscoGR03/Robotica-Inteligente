{
 "cells": [
  {
   "cell_type": "code",
   "execution_count": 1,
   "metadata": {},
   "outputs": [
    {
     "name": "stderr",
     "output_type": "stream",
     "text": [
      "\"c:\\Program\" no se reconoce como un comando interno o externo,\n",
      "programa o archivo por lotes ejecutable.\n"
     ]
    }
   ],
   "source": [
    "import sys\n",
    "!{sys.executable} -m pip install cv2"
   ]
  },
  {
   "cell_type": "code",
   "execution_count": 2,
   "metadata": {},
   "outputs": [],
   "source": [
    "#video normal\n",
    "\n",
    "import cv2\n",
    "\n",
    "video1 = cv2.VideoCapture(0)\n",
    "width = int(video1.get(cv2.CAP_PROP_FRAME_WIDTH))\n",
    "height = int(video1.get(cv2.CAP_PROP_FRAME_HEIGHT))\n",
    "\n",
    "writer_normal = cv2.VideoWriter('normal_video.mp4', cv2.VideoWriter_fourcc(*'mp4v'), 40, (width, height))\n",
    "while True:\n",
    "    ret1, frame1 = video1.read()\n",
    "    if cv2.waitKey(1) & 0xFF == ord('x'):\n",
    "        break\n",
    "    writer_normal.write(frame1)\n",
    "    cv2.imshow('frame', frame1)\n",
    "video1.release()\n",
    "writer_normal.release()\n",
    "cv2.destroyAllWindows()"
   ]
  },
  {
   "cell_type": "code",
   "execution_count": 3,
   "metadata": {},
   "outputs": [],
   "source": [
    "#Video en reversa\n",
    "\n",
    "video2 = cv2.VideoCapture(\"normal_video.mp4\")\n",
    "\n",
    "writer_reversed = cv2.VideoWriter('reversed_video.mp4', cv2.VideoWriter_fourcc(*'mp4v'), 40, (width, height))\n",
    "\n",
    "check, vid = video2.read()\n",
    "frame_list_normal = []\n",
    "while(check == True):\n",
    "    check, vid = video2.read()\n",
    "    frame_list_normal.append(vid)\n",
    "frame_list_normal.pop()\n",
    "frame_list_normal.reverse()\n",
    "\n",
    "for frame2 in frame_list_normal:\n",
    "    if cv2.waitKey(1) & 0xFF == ord('x'):\n",
    "        break\n",
    "    writer_reversed.write(frame2)\n",
    "    \n",
    "video2.release()\n",
    "writer_reversed.release()\n",
    "cv2.destroyAllWindows()"
   ]
  },
  {
   "cell_type": "code",
   "execution_count": 6,
   "metadata": {},
   "outputs": [],
   "source": [
    "#Video combinado\n",
    "\n",
    "video2 = cv2.VideoCapture(\"normal_video.mp4\")\n",
    "video3 = cv2.VideoCapture(\"reversed_video.mp4\")\n",
    "\n",
    "writer_combined = cv2.VideoWriter('combined_video.mp4', cv2.VideoWriter_fourcc(*'mp4v'), 40, (width, height))\n",
    "\n",
    "check, vid = video2.read()\n",
    "frame_list_normal2 = []\n",
    "while(check == True):\n",
    "    check, vid = video2.read()\n",
    "    frame_list_normal2.append(vid)\n",
    "frame_list_normal2.pop()\n",
    "\n",
    "for frame3 in frame_list_normal2:\n",
    "    if cv2.waitKey(1) & 0xFF == ord('x'):\n",
    "        break\n",
    "    writer_combined.write(frame3)\n",
    "\n",
    "check, vid = video3.read()\n",
    "frame_list_reversed = []\n",
    "while(check == True):\n",
    "    check, vid = video3.read()\n",
    "    frame_list_reversed.append(vid)\n",
    "frame_list_reversed.pop()\n",
    "\n",
    "for frame4 in frame_list_reversed:\n",
    "    if cv2.waitKey(1) & 0xFF == ord('x'):\n",
    "        break\n",
    "    writer_combined.write(frame4)\n",
    "\n",
    "video2.release()\n",
    "video3.release()\n",
    "writer_combined.release()\n",
    "\n",
    "cv2.destroyAllWindows()\n"
   ]
  }
 ],
 "metadata": {
  "kernelspec": {
   "display_name": "Python 3",
   "language": "python",
   "name": "python3"
  },
  "language_info": {
   "codemirror_mode": {
    "name": "ipython",
    "version": 3
   },
   "file_extension": ".py",
   "mimetype": "text/x-python",
   "name": "python",
   "nbconvert_exporter": "python",
   "pygments_lexer": "ipython3",
   "version": "3.11.4"
  }
 },
 "nbformat": 4,
 "nbformat_minor": 2
}
